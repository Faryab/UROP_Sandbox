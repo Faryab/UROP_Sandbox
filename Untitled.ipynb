{
 "cells": [
  {
   "cell_type": "code",
   "execution_count": 35,
   "metadata": {},
   "outputs": [],
   "source": [
    "from lxml import etree"
   ]
  },
  {
   "cell_type": "code",
   "execution_count": 36,
   "metadata": {},
   "outputs": [],
   "source": [
    "root = etree.Element(\"ParameterList\")"
   ]
  },
  {
   "cell_type": "code",
   "execution_count": 37,
   "metadata": {},
   "outputs": [],
   "source": [
    "child1 = etree.SubElement(root, \"Parameter\", name=\"ID\", type=\"int\", value=\"1\")\n",
    "child2 = etree.SubElement(root, \"Parameter\", name=\"NLevels\", type=\"int\", value=\"3\")\n",
    "\n",
    "root.set('name', 'GinPinMeshType')\n",
    "\n",
    "child3 = etree.SubElement(root, \"Parameter\")\n",
    "child3.set('name', 'NLevels') # alternatively\n",
    "child3.set('type', 'int')\n",
    "child3.set('value', '3')\n",
    "\n",
    "child7 = etree.SubElement(root, \"ParameterList\")\n",
    "child7.set('name', 'Level 1')\n",
    "\n",
    "child8 = etree.SubElement(child7, \"Parameter\", name=\"nGeom\", type=\"int\", value=\"1\")\n",
    "child9 = etree.SubElement(child7, \"ParameterList\", name=\"Geom 1\")\n",
    "# ...\n"
   ]
  },
  {
   "cell_type": "code",
   "execution_count": 34,
   "metadata": {},
   "outputs": [
    {
     "name": "stdout",
     "output_type": "stream",
     "text": [
      "<ParameterList name=\"GinPinMeshType\">\n",
      "  <Parameter name=\"ID\" type=\"int\" value=\"1\"/>\n",
      "  <Parameter name=\"NLevels\" type=\"int\" value=\"3\"/>\n",
      "  <Parameter name=\"NLevels\" type=\"int\" value=\"3\"/>\n",
      "  <ParameterList name=\"Level 1\">\n",
      "    <Parameter name=\"nGeom\" type=\"int\" value=\"1\"/>\n",
      "    <ParameterList name=\"Geom 1\"/>\n",
      "  </ParameterList>\n",
      "</ParameterList>\n",
      "\n"
     ]
    }
   ],
   "source": [
    "# https://python-forum.io/Thread-String-output-displaying-n-instead-of-new-line for decode\n",
    "print(etree.tostring(root, pretty_print=True, encoding = \"unicode\")) \n",
    "# decode solves bytestring problem"
   ]
  },
  {
   "cell_type": "code",
   "execution_count": 5,
   "metadata": {},
   "outputs": [
    {
     "ename": "ModuleNotFoundError",
     "evalue": "No module named 'openmc'",
     "output_type": "error",
     "traceback": [
      "\u001b[0;31m---------------------------------------------------------------------------\u001b[0m",
      "\u001b[0;31mModuleNotFoundError\u001b[0m                       Traceback (most recent call last)",
      "\u001b[0;32m<ipython-input-5-a5c295fa3675>\u001b[0m in \u001b[0;36m<module>\u001b[0;34m\u001b[0m\n\u001b[0;32m----> 1\u001b[0;31m \u001b[0;32mimport\u001b[0m \u001b[0mopenmc\u001b[0m\u001b[0;34m\u001b[0m\u001b[0;34m\u001b[0m\u001b[0m\n\u001b[0m",
      "\u001b[0;31mModuleNotFoundError\u001b[0m: No module named 'openmc'"
     ]
    }
   ],
   "source": []
  },
  {
   "cell_type": "code",
   "execution_count": null,
   "metadata": {},
   "outputs": [],
   "source": []
  }
 ],
 "metadata": {
  "kernelspec": {
   "display_name": "Python 3",
   "language": "python",
   "name": "python3"
  },
  "language_info": {
   "codemirror_mode": {
    "name": "ipython",
    "version": 3
   },
   "file_extension": ".py",
   "mimetype": "text/x-python",
   "name": "python",
   "nbconvert_exporter": "python",
   "pygments_lexer": "ipython3",
   "version": "3.7.1"
  }
 },
 "nbformat": 4,
 "nbformat_minor": 2
}
